# Stroke Prediction Model Training

import pandas as pd
import numpy as np
from sklearn.model_selection import train_test_split
from sklearn.preprocessing import StandardScaler
from sklearn.metrics import accuracy_score, classification_report
from sklearn.ensemble import RandomForestClassifier
from tensorflow.keras.models import Sequential
from tensorflow.keras.layers import Dense
import joblib

# Load the dataset
df = pd.read_csv('stroke_data.csv')

# Features and target
X = df.drop('Stroke', axis=1)
y = df['Stroke']

# Train-test split
X_train, X_test, y_train, y_test = train_test_split(X, y, test_size=0.2, random_state=42)

# Feature scaling
scaler = StandardScaler()
X_train_scaled = scaler.fit_transform(X_train)
X_test_scaled = scaler.transform(X_test)

# Build a Neural Network model
nn_model = Sequential([
    Dense(128, input_dim=X_train_scaled.shape[1], activation='relu'),
    Dense(64, activation='relu'),
    Dense(1, activation='sigmoid')  # Binary classification
])

# Compile the model
nn_model.compile(optimizer='adam', loss='binary_crossentropy', metrics=['accuracy'])

# Train the model
nn_model.fit(X_train_scaled, y_train, epochs=20, batch_size=32, validation_split=0.2)

# Evaluate the neural network
y_pred_nn = nn_model.predict(X_test_scaled)
y_pred_nn = (y_pred_nn > 0.5).astype(int).flatten()
print(f"Neural Network Accuracy: {accuracy_score(y_test, y_pred_nn)}")

# Train a RandomForest model
rf_model = RandomForestClassifier(n_estimators=100, random_state=42)
rf_model.fit(X_train_scaled, y_train)

# Get predictions from both models
rf_preds = rf_model.predict(X_test_scaled)
nn_preds = (nn_model.predict(X_test_scaled) > 0.5).astype(int).flatten()

# Ensemble: Majority voting
ensemble_preds = np.round((rf_preds + nn_preds) / 2)

# Evaluate the ensemble model
print(f"Ensemble Model Accuracy: {accuracy_score(y_test, ensemble_preds)}")
print("Classification Report:\n", classification_report(y_test, ensemble_preds))

# Save the models
joblib.dump(rf_model, 'rf_stroke_model.pkl')
nn_model.save('nn_stroke_model.h5')
joblib.dump(scaler, 'scaler.pkl')
